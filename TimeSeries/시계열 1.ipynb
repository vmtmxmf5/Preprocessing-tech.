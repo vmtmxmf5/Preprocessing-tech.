{
 "cells": [
  {
   "cell_type": "code",
   "execution_count": 218,
   "id": "bb9b128f",
   "metadata": {},
   "outputs": [],
   "source": [
    "import pandas as pd\n",
    "import numpy as np\n",
    "\n",
    "YearJoined = pd.read_csv('./Ch02/data/year_joined.csv')\n",
    "emails = pd.read_csv('./Ch02/data/emails.csv')\n",
    "donations = pd.read_csv('./Ch02/data/donations.csv')"
   ]
  },
  {
   "cell_type": "code",
   "execution_count": 219,
   "id": "dc3b29b3",
   "metadata": {},
   "outputs": [
    {
     "name": "stdout",
     "output_type": "stream",
     "text": [
      "<class 'pandas.core.frame.DataFrame'>\n",
      "RangeIndex: 1000 entries, 0 to 999\n",
      "Data columns (total 3 columns):\n",
      " #   Column      Non-Null Count  Dtype \n",
      "---  ------      --------------  ----- \n",
      " 0   user        1000 non-null   int64 \n",
      " 1   userStats   1000 non-null   object\n",
      " 2   yearJoined  1000 non-null   int64 \n",
      "dtypes: int64(2), object(1)\n",
      "memory usage: 23.6+ KB\n"
     ]
    }
   ],
   "source": [
    "YearJoined.info()"
   ]
  },
  {
   "cell_type": "code",
   "execution_count": 220,
   "id": "3ae165e3",
   "metadata": {
    "scrolled": true
   },
   "outputs": [
    {
     "data": {
      "text/plain": [
       "(1000,)"
      ]
     },
     "execution_count": 220,
     "metadata": {},
     "output_type": "execute_result"
    }
   ],
   "source": [
    "# user status를 모두 1개씩 갖고 있다\n",
    "YearJoined.groupby('user').count().groupby('userStats').count()\n",
    "YearJoined.user.unique().shape"
   ]
  },
  {
   "cell_type": "code",
   "execution_count": 221,
   "id": "13bf8aa0",
   "metadata": {
    "scrolled": true
   },
   "outputs": [
    {
     "data": {
      "text/html": [
       "<div>\n",
       "<style scoped>\n",
       "    .dataframe tbody tr th:only-of-type {\n",
       "        vertical-align: middle;\n",
       "    }\n",
       "\n",
       "    .dataframe tbody tr th {\n",
       "        vertical-align: top;\n",
       "    }\n",
       "\n",
       "    .dataframe thead th {\n",
       "        text-align: right;\n",
       "    }\n",
       "</style>\n",
       "<table border=\"1\" class=\"dataframe\">\n",
       "  <thead>\n",
       "    <tr style=\"text-align: right;\">\n",
       "      <th></th>\n",
       "      <th>emailsOpened</th>\n",
       "      <th>user</th>\n",
       "      <th>week</th>\n",
       "    </tr>\n",
       "  </thead>\n",
       "  <tbody>\n",
       "    <tr>\n",
       "      <th>0</th>\n",
       "      <td>3.0</td>\n",
       "      <td>1.0</td>\n",
       "      <td>2015-06-29 00:00:00</td>\n",
       "    </tr>\n",
       "    <tr>\n",
       "      <th>1</th>\n",
       "      <td>2.0</td>\n",
       "      <td>1.0</td>\n",
       "      <td>2015-07-13 00:00:00</td>\n",
       "    </tr>\n",
       "    <tr>\n",
       "      <th>2</th>\n",
       "      <td>2.0</td>\n",
       "      <td>1.0</td>\n",
       "      <td>2015-07-20 00:00:00</td>\n",
       "    </tr>\n",
       "    <tr>\n",
       "      <th>3</th>\n",
       "      <td>3.0</td>\n",
       "      <td>1.0</td>\n",
       "      <td>2015-07-27 00:00:00</td>\n",
       "    </tr>\n",
       "    <tr>\n",
       "      <th>4</th>\n",
       "      <td>1.0</td>\n",
       "      <td>1.0</td>\n",
       "      <td>2015-08-03 00:00:00</td>\n",
       "    </tr>\n",
       "  </tbody>\n",
       "</table>\n",
       "</div>"
      ],
      "text/plain": [
       "   emailsOpened  user                 week\n",
       "0           3.0   1.0  2015-06-29 00:00:00\n",
       "1           2.0   1.0  2015-07-13 00:00:00\n",
       "2           2.0   1.0  2015-07-20 00:00:00\n",
       "3           3.0   1.0  2015-07-27 00:00:00\n",
       "4           1.0   1.0  2015-08-03 00:00:00"
      ]
     },
     "execution_count": 221,
     "metadata": {},
     "output_type": "execute_result"
    }
   ],
   "source": [
    "# week는 특정 순간이 아니라, 한 주를 모두 포함하는 정보이다\n",
    "# week의 날짜는 일요일~토요일, 월요일~일요일 (1월1일 이런건 수정해야 한다)\n",
    "emails.head()"
   ]
  },
  {
   "cell_type": "code",
   "execution_count": 222,
   "id": "a030e4d8",
   "metadata": {},
   "outputs": [
    {
     "data": {
      "text/html": [
       "<div>\n",
       "<style scoped>\n",
       "    .dataframe tbody tr th:only-of-type {\n",
       "        vertical-align: middle;\n",
       "    }\n",
       "\n",
       "    .dataframe tbody tr th {\n",
       "        vertical-align: top;\n",
       "    }\n",
       "\n",
       "    .dataframe thead th {\n",
       "        text-align: right;\n",
       "    }\n",
       "</style>\n",
       "<table border=\"1\" class=\"dataframe\">\n",
       "  <thead>\n",
       "    <tr style=\"text-align: right;\">\n",
       "      <th></th>\n",
       "      <th>emailsOpened</th>\n",
       "      <th>user</th>\n",
       "      <th>week</th>\n",
       "    </tr>\n",
       "  </thead>\n",
       "  <tbody>\n",
       "  </tbody>\n",
       "</table>\n",
       "</div>"
      ],
      "text/plain": [
       "Empty DataFrame\n",
       "Columns: [emailsOpened, user, week]\n",
       "Index: []"
      ]
     },
     "execution_count": 222,
     "metadata": {},
     "output_type": "execute_result"
    }
   ],
   "source": [
    "# 이메일을 열람한 경우만 데이터에 기재한 듯 싶다\n",
    "emails[emails.emailsOpened < 1]"
   ]
  },
  {
   "cell_type": "code",
   "execution_count": 223,
   "id": "f5eb1cc6",
   "metadata": {},
   "outputs": [
    {
     "name": "stdout",
     "output_type": "stream",
     "text": [
      "이메일 열람하지 않은 경우는 제외한 데이터인게 확실함\n"
     ]
    }
   ],
   "source": [
    "# 검토\n",
    "emails.week = pd.to_datetime(emails.week)\n",
    "\n",
    "for user in emails.user.unique():\n",
    "    last = max(emails.loc[emails['user'] == user, 'week'])\n",
    "    start = min(emails.loc[emails['user'] == user, 'week'])\n",
    "    real_time = (last - start).days / 7\n",
    "    my_data = emails[emails.user == user].shape[0]\n",
    "    if real_time == my_data:\n",
    "        print('이메일 열람하지 않은 경우는 제외한 데이터인게 확실함')\n",
    "        break"
   ]
  },
  {
   "cell_type": "code",
   "execution_count": 224,
   "id": "12709145",
   "metadata": {
    "scrolled": true
   },
   "outputs": [],
   "source": [
    "# week와 user로 만들 수 있는 모든 경우의 수를 idx로 삼음\n",
    "complete_idx = pd.MultiIndex.from_product((set(emails.week), set(emails.user)))\n",
    "# len(set(emails.week)) == len(emails.week)\n",
    "\n",
    "# 누락값을 채워서 인덱스로 만들기\n",
    "all_email = emails.set_index(['week', 'user']).reindex(complete_idx, fill_value=0)\n",
    "all_email = all_email.reset_index()\n",
    "all_email.rename(columns={'level_0':'week', 'level_1':'member'}, inplace=True)"
   ]
  },
  {
   "cell_type": "code",
   "execution_count": 225,
   "id": "cc105cdc",
   "metadata": {
    "scrolled": true
   },
   "outputs": [
    {
     "data": {
      "text/html": [
       "<div>\n",
       "<style scoped>\n",
       "    .dataframe tbody tr th:only-of-type {\n",
       "        vertical-align: middle;\n",
       "    }\n",
       "\n",
       "    .dataframe tbody tr th {\n",
       "        vertical-align: top;\n",
       "    }\n",
       "\n",
       "    .dataframe thead th {\n",
       "        text-align: right;\n",
       "    }\n",
       "</style>\n",
       "<table border=\"1\" class=\"dataframe\">\n",
       "  <thead>\n",
       "    <tr style=\"text-align: right;\">\n",
       "      <th></th>\n",
       "      <th>week</th>\n",
       "      <th>member</th>\n",
       "      <th>emailsOpened</th>\n",
       "    </tr>\n",
       "  </thead>\n",
       "  <tbody>\n",
       "    <tr>\n",
       "      <th>15262</th>\n",
       "      <td>2015-02-09</td>\n",
       "      <td>319.0</td>\n",
       "      <td>0.0</td>\n",
       "    </tr>\n",
       "    <tr>\n",
       "      <th>75091</th>\n",
       "      <td>2015-02-16</td>\n",
       "      <td>319.0</td>\n",
       "      <td>0.0</td>\n",
       "    </tr>\n",
       "    <tr>\n",
       "      <th>7716</th>\n",
       "      <td>2015-02-23</td>\n",
       "      <td>319.0</td>\n",
       "      <td>0.0</td>\n",
       "    </tr>\n",
       "    <tr>\n",
       "      <th>35744</th>\n",
       "      <td>2015-03-02</td>\n",
       "      <td>319.0</td>\n",
       "      <td>0.0</td>\n",
       "    </tr>\n",
       "    <tr>\n",
       "      <th>80481</th>\n",
       "      <td>2015-03-09</td>\n",
       "      <td>319.0</td>\n",
       "      <td>0.0</td>\n",
       "    </tr>\n",
       "  </tbody>\n",
       "</table>\n",
       "</div>"
      ],
      "text/plain": [
       "            week  member  emailsOpened\n",
       "15262 2015-02-09   319.0           0.0\n",
       "75091 2015-02-16   319.0           0.0\n",
       "7716  2015-02-23   319.0           0.0\n",
       "35744 2015-03-02   319.0           0.0\n",
       "80481 2015-03-09   319.0           0.0"
      ]
     },
     "execution_count": 225,
     "metadata": {},
     "output_type": "execute_result"
    }
   ],
   "source": [
    "# 회원가입 이전이어서 0이 많다\n",
    "all_email[all_email.member==319].sort_values('week').head()"
   ]
  },
  {
   "cell_type": "code",
   "execution_count": 288,
   "id": "3711c749",
   "metadata": {
    "scrolled": true
   },
   "outputs": [
    {
     "name": "stdout",
     "output_type": "stream",
     "text": [
      "index                      0\n",
      "user                     1.0\n",
      "min      2015-06-29 00:00:00\n",
      "max      2018-05-28 00:00:00\n",
      "Name: 0, dtype: object\n"
     ]
    }
   ],
   "source": [
    "# 가입일, 최종 수신일\n",
    "cutoff_dates = emails.groupby('user').week.agg(['min', 'max']).reset_index()\n",
    "\n",
    "# reset_index를 써야 for문에서 idx를 뽑아낸다\n",
    "for _, row in cutoff_dates.reset_index().iterrows():\n",
    "    print(row)\n",
    "    break\n",
    "\n",
    "\n",
    "for _, row in cutoff_dates.reset_index().iterrows():\n",
    "    user = row['user']\n",
    "    start_date = row['min']\n",
    "    end_date = row['max']\n",
    "    \n",
    "    # 가입 이전 데이터 삭제\n",
    "    start_idx = all_email.loc[all_email.member == user]\n",
    "    start_idx = start_idx.loc[all_email.week < start_date].index\n",
    "    all_email.drop(start_idx, inplace=True)\n",
    "    \n",
    "    # 탈퇴 이후 데이터 삭제\n",
    "    end_idx = all_email.loc[all_email.member == user]\n",
    "    end_idx = end_idx.loc[all_email.week > end_date].index\n",
    "    all_email.drop(end_idx, inplace=True)"
   ]
  },
  {
   "cell_type": "code",
   "execution_count": 287,
   "id": "8c8a49ad",
   "metadata": {
    "scrolled": true
   },
   "outputs": [
    {
     "name": "stdout",
     "output_type": "stream",
     "text": [
      "2017-12-04 00:00:00 2018-05-28 00:00:00\n"
     ]
    }
   ],
   "source": [
    "user_998 = all_email[all_email.member == 998]\n",
    "user_998_uni = user_998.emailsOpened.unique()\n",
    "\n",
    "max_998 = user_998.loc[user_998['emailsOpened'] == user_998_uni[2]].week.max()\n",
    "min_998 = user_998.loc[user_998['emailsOpened'] == user_998_uni[1]].week.min()\n",
    "\n",
    "print(min_998, max_998)"
   ]
  },
  {
   "cell_type": "code",
   "execution_count": 292,
   "id": "80cff8d2",
   "metadata": {},
   "outputs": [
    {
     "data": {
      "text/plain": [
       "(Timestamp('2017-12-04 00:00:00'), Timestamp('2018-05-28 00:00:00'))"
      ]
     },
     "execution_count": 292,
     "metadata": {},
     "output_type": "execute_result"
    }
   ],
   "source": [
    "all_email[all_email.member == 998].week.min(), all_email[all_email.member == 998].week.max()"
   ]
  }
 ],
 "metadata": {
  "kernelspec": {
   "display_name": "Python 3",
   "language": "python",
   "name": "python3"
  },
  "language_info": {
   "codemirror_mode": {
    "name": "ipython",
    "version": 3
   },
   "file_extension": ".py",
   "mimetype": "text/x-python",
   "name": "python",
   "nbconvert_exporter": "python",
   "pygments_lexer": "ipython3",
   "version": "3.7.10"
  },
  "toc": {
   "base_numbering": 1,
   "nav_menu": {},
   "number_sections": true,
   "sideBar": true,
   "skip_h1_title": false,
   "title_cell": "Table of Contents",
   "title_sidebar": "Contents",
   "toc_cell": false,
   "toc_position": {},
   "toc_section_display": true,
   "toc_window_display": false
  },
  "varInspector": {
   "cols": {
    "lenName": 16,
    "lenType": 16,
    "lenVar": 40
   },
   "kernels_config": {
    "python": {
     "delete_cmd_postfix": "",
     "delete_cmd_prefix": "del ",
     "library": "var_list.py",
     "varRefreshCmd": "print(var_dic_list())"
    },
    "r": {
     "delete_cmd_postfix": ") ",
     "delete_cmd_prefix": "rm(",
     "library": "var_list.r",
     "varRefreshCmd": "cat(var_dic_list()) "
    }
   },
   "position": {
    "height": "144.857px",
    "left": "622.429px",
    "right": "20px",
    "top": "4.00001px",
    "width": "350px"
   },
   "types_to_exclude": [
    "module",
    "function",
    "builtin_function_or_method",
    "instance",
    "_Feature"
   ],
   "window_display": true
  }
 },
 "nbformat": 4,
 "nbformat_minor": 5
}
